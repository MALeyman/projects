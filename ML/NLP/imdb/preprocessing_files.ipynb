{
 "cells": [
  {
   "cell_type": "markdown",
   "id": "771d0e8d-f631-461f-85da-a9bc40e93062",
   "metadata": {
    "tags": []
   },
   "source": [
    "# Предобработка файлов"
   ]
  },
  {
   "cell_type": "markdown",
   "id": "af5d69c9-4a27-4477-a6e6-24b887029759",
   "metadata": {},
   "source": [
    "### 1. подключение библиотек"
   ]
  },
  {
   "cell_type": "code",
   "execution_count": 1,
   "id": "0c06a1d7-c85d-491a-82da-a5a270368540",
   "metadata": {
    "tags": []
   },
   "outputs": [],
   "source": [
    "import os \n",
    "import pathlib \n",
    "import numpy as np\n",
    "from glob import glob\n",
    "from dataset.utils import create_balanced_and_test_datasets\n",
    "import pickle\n",
    "import shutil"
   ]
  },
  {
   "cell_type": "markdown",
   "id": "ac0d337c-29ee-43de-9f4f-82afbd3a2c64",
   "metadata": {},
   "source": [
    "### 2. Пути к файлам"
   ]
  },
  {
   "cell_type": "code",
   "execution_count": 2,
   "id": "f4a456e9-52c1-447f-93da-17cf48e9741e",
   "metadata": {
    "tags": []
   },
   "outputs": [
    {
     "data": {
      "text/plain": [
       "'/home/maksim/develops/python/projects/ML/NLP/imdb'"
      ]
     },
     "execution_count": 2,
     "metadata": {},
     "output_type": "execute_result"
    }
   ],
   "source": [
    "# Текущее положение\n",
    "path_1 = os.getcwd()\n",
    "path_1"
   ]
  },
  {
   "cell_type": "code",
   "execution_count": 3,
   "id": "da8bc63d-47bd-40c9-9155-e181e8ec78b8",
   "metadata": {
    "tags": []
   },
   "outputs": [],
   "source": [
    "# Расположение файла для кодировки слов\n",
    "path_vocab = 'imdb.vocab'"
   ]
  },
  {
   "cell_type": "code",
   "execution_count": 4,
   "id": "87e27a8c",
   "metadata": {},
   "outputs": [
    {
     "name": "stdout",
     "output_type": "stream",
     "text": [
      "data\t\t    imdb.vocab\t\t       Site\n",
      "dataset\t\t    model_NET.ipynb\t       отчёт_отзывы_к_фильмам.pdf\n",
      "dataset3.ipynb\t    preprocessing_files.ipynb\n",
      "film_predict.ipynb  README.md\n"
     ]
    }
   ],
   "source": [
    "!ls"
   ]
  },
  {
   "cell_type": "code",
   "execution_count": 5,
   "id": "75343467-b2e3-4476-8544-73ca2977315e",
   "metadata": {
    "tags": []
   },
   "outputs": [],
   "source": [
    "#  Новые пути к обработанным файлам\n",
    "\n",
    "c1 = os.path.join(path_1, 'data/dataset_new/1/')\n",
    "c2 = os.path.join(path_1, 'data/dataset_new/2/')\n",
    "c3 = os.path.join(path_1, 'data/dataset_new/3/')\n",
    "c4 = os.path.join(path_1, 'data/dataset_new/4')\n",
    "\n",
    "\n",
    "c7 = os.path.join(path_1, 'data/dataset_new/7/')\n",
    "c8 = os.path.join(path_1, 'data/dataset_new/8/')\n",
    "c9  = os.path.join(path_1, 'data/dataset_new/9/')\n",
    "c10 = os.path.join(path_1, 'data/dataset_new/10/')\n"
   ]
  },
  {
   "cell_type": "code",
   "execution_count": 6,
   "id": "5f69789a",
   "metadata": {},
   "outputs": [
    {
     "name": "stdout",
     "output_type": "stream",
     "text": [
      "Папка создана или уже существует: /home/maksim/develops/python/projects/ML/NLP/imdb/data/dataset_new/10/\n",
      "Папка создана или уже существует: /home/maksim/develops/python/projects/ML/NLP/imdb/data/dataset_new/1/\n",
      "Папка создана или уже существует: /home/maksim/develops/python/projects/ML/NLP/imdb/data/dataset_new/2/\n",
      "Папка создана или уже существует: /home/maksim/develops/python/projects/ML/NLP/imdb/data/dataset_new/3/\n",
      "Папка создана или уже существует: /home/maksim/develops/python/projects/ML/NLP/imdb/data/dataset_new/4/\n",
      "Папка создана или уже существует: /home/maksim/develops/python/projects/ML/NLP/imdb/data/dataset_new/7/\n",
      "Папка создана или уже существует: /home/maksim/develops/python/projects/ML/NLP/imdb/data/dataset_new/8/\n",
      "Папка создана или уже существует: /home/maksim/develops/python/projects/ML/NLP/imdb/data/dataset_new/9/\n"
     ]
    }
   ],
   "source": [
    "import os\n",
    "\n",
    "c1 = os.path.join(path_1, 'data/dataset_new/1/')\n",
    "c2 = os.path.join(path_1, 'data/dataset_new/2/')\n",
    "c3 = os.path.join(path_1, 'data/dataset_new/3/')\n",
    "c4 = os.path.join(path_1, 'data/dataset_new/4/')\n",
    "\n",
    "c7 = os.path.join(path_1, 'data/dataset_new/7/')\n",
    "c8 = os.path.join(path_1, 'data/dataset_new/8/')\n",
    "c9 = os.path.join(path_1, 'data/dataset_new/9/')\n",
    "c10 = os.path.join(path_1, 'data/dataset_new/10/')\n",
    "\n",
    "folders = [c10, c1, c2, c3, c4, c7, c8, c9]\n",
    "\n",
    "for folder in folders:\n",
    "    os.makedirs(folder, exist_ok=True)\n",
    "    print(f'Папка создана или уже существует: {folder}')\n"
   ]
  },
  {
   "cell_type": "code",
   "execution_count": 7,
   "id": "df060d56-95da-4605-9391-6b6b18a1a7c6",
   "metadata": {
    "tags": []
   },
   "outputs": [],
   "source": [
    "# пути к исходному датасету\n",
    "path_neg_1 = os.path.join(path_1, 'data/dataset_old/neg_1/')\n",
    "path_pos_1 = os.path.join(path_1, 'data/dataset_old/pos_1/')\n",
    "\n",
    "path_neg_2 = os.path.join(path_1, 'data/dataset_old/neg_2/')\n",
    "path_pos_2 = os.path.join(path_1, 'data/dataset_old/pos_2/')"
   ]
  },
  {
   "cell_type": "code",
   "execution_count": 8,
   "id": "ff7de63c-3254-4a10-8b05-a81249d6fa82",
   "metadata": {
    "tags": []
   },
   "outputs": [
    {
     "data": {
      "text/plain": [
       "'/home/maksim/develops/python/projects/ML/NLP/imdb/data/dataset_old/neg_1/'"
      ]
     },
     "execution_count": 8,
     "metadata": {},
     "output_type": "execute_result"
    }
   ],
   "source": [
    "path_neg_1"
   ]
  },
  {
   "cell_type": "code",
   "execution_count": 9,
   "id": "d6fe3ae7-43f4-4763-81de-65c98ecc8d61",
   "metadata": {
    "tags": []
   },
   "outputs": [],
   "source": [
    "neg2 = np.array((glob(os.path.join(path_neg_2, '*'))))\n",
    "\n",
    "pos2 = np.array((glob(os.path.join(path_pos_2, '*'))))\n",
    "\n",
    "neg1 = np.array((glob(os.path.join(path_neg_1, '*'))))\n",
    "\n",
    "pos1 = np.array((glob(os.path.join(path_pos_1, '*'))))"
   ]
  },
  {
   "cell_type": "code",
   "execution_count": 10,
   "id": "a1fe3deb-472b-44d5-b09f-e4c2a74d0270",
   "metadata": {
    "tags": []
   },
   "outputs": [
    {
     "data": {
      "text/plain": [
       "12500"
      ]
     },
     "execution_count": 10,
     "metadata": {},
     "output_type": "execute_result"
    }
   ],
   "source": [
    "len(pos1)"
   ]
  },
  {
   "cell_type": "code",
   "execution_count": 11,
   "id": "7f1445c4-9293-49bf-9025-ab7761078819",
   "metadata": {
    "tags": []
   },
   "outputs": [
    {
     "data": {
      "text/plain": [
       "np.str_('/home/maksim/develops/python/projects/ML/NLP/imdb/data/dataset_old/neg_2/5488_2.txt')"
      ]
     },
     "execution_count": 11,
     "metadata": {},
     "output_type": "execute_result"
    }
   ],
   "source": [
    "neg2[0]"
   ]
  },
  {
   "cell_type": "markdown",
   "id": "8d0a011a-259d-4895-b6fc-8cbff84e8a6b",
   "metadata": {
    "tags": []
   },
   "source": [
    "### 3. вспомогательные функции"
   ]
  },
  {
   "cell_type": "code",
   "execution_count": 12,
   "id": "5245291a",
   "metadata": {},
   "outputs": [],
   "source": [
    "from dataset.utils import read_file, str_name, inv1, preprocess_text, vocab_read"
   ]
  },
  {
   "cell_type": "markdown",
   "id": "b6dafcda-2762-4485-8fba-98a7b53d9dd5",
   "metadata": {},
   "source": [
    "### 4. Просмотрим пример отзыва"
   ]
  },
  {
   "cell_type": "code",
   "execution_count": 13,
   "id": "6bde28a0-9746-441a-94e4-bb01611d73f6",
   "metadata": {
    "tags": []
   },
   "outputs": [
    {
     "name": "stdout",
     "output_type": "stream",
     "text": [
      "Why on earth is Colin Firth in this pointless film? Has he really been that strapped for cash?<br /><br />The film isn't clear on what it wants to be about, grief?, exotic places?, ghosts?, a vehicle for Mr Darcy? It's a muddled, muddy mess.<br /><br />There seems to be some sort of idea that Italy must be good, in itself, and that Italian has something to offer as a language - but in the end the girls just want to go back to yankland.<br /><br />There are pointless episodes on the beach, in churches, on busy roads - but what it is all about, or why anybody should care simply isn't clear.<br /><br />There was also a yank woman in the film. It wasn't clear what here job was, but she seemed only to be there to make vapid, inappropriate and maudlin comments to the girl. Was it supposed to be about paedophillia??<br /><br />A pretty dreadful mess, all in all. I gave it 2 rather than 1 because it doesn't have the charm of an utterly ghastly film.\n"
     ]
    }
   ],
   "source": [
    "#  текст отзыва\n",
    "f = read_file(neg2[0])"
   ]
  },
  {
   "cell_type": "markdown",
   "id": "e9d3d521",
   "metadata": {},
   "source": [
    "### 5. Пример отзыва токенезированный"
   ]
  },
  {
   "cell_type": "code",
   "execution_count": null,
   "id": "9cca58db-1384-422c-865a-a8d74619601c",
   "metadata": {
    "tags": []
   },
   "outputs": [
    {
     "name": "stdout",
     "output_type": "stream",
     "text": [
      "['the', 'and', 'a', 'of', 'to', 'is', 'it', 'in', 'i', 'this']\n",
      "89527\n",
      "39998\n",
      "10 18 1526 412 56 1498 8 0 833 860 8 0 2528 17 131 23 41 106 178 11 211 5 335 99 145 10 2842 208 11 44 56 1660 5 1103 0 62 6 42 47115 129 25546 5354 2926 2933 18563 83055 0 0 33 638 24 158 308 2599 0 0 4133 19 87 15 3 22177 10117 0 0 99 61 27 251 19 64 0 711 3480 338 18563 2 24 116 434 8129 0 6426 0 138 5 3 1047 2 528 81 6312 1725 0 0 902 34 422 5 391 15 151 0 0 0 0 6312 6 26267 2 3693 2 443 11272 60 6 1 1906 4 33 18563 6 13 3 390 17 34 363 5 1292 2 18563 497 5 633 13 3 390 13 22 497 5 340 45 158 178 137 13 33977 1088 2 2151 20202 0 17 27 251 2599 257 142 2 474 5 2322 984 5 18563 17 22 63 149 177 5 17 6312 1026 5 543 13 52 149 256 8 1316 5 865 0 0 0 18 6 1 331 906 752 31 291 13879 33 1042 106 1179 1898 8131 8 0 2 0 1 0 17 144 106 105 297 37 2138 1040 5 10 4706 405 4 0 0 53 757 5 132 139 6 20 159 17 9 101 15 10 18 0 54 3327 5 801 45 0 10 18 6 468 2 1200 703 35 363 5 1327 15 172 133 285 13 43 0 61 1395 83 4 1 12958 4 1 0 13879 33 80 1042 1 222 181 5 25 417 10 201 98 199 4 258 139 262 2 30 203 22 181 5 26 258 5 7071 1 168 1660 13 0 139 42 0 17 295 1 665 297 929 0 118 244 63 101 1 1982 30365 12 0 43 21 0 126 0 3 166 203 303 1 18 102 59 5252 25 131 890 5904 11 23 408 5 9885 273 17 29 34 2648 6 37403 1 0 3694 476 3 170 17 267 22 140 161 323 2 41 826 14 1 124 3101 5 211 24 94 83 10 18 149 161 13 3 208 40 13 3 0\n"
     ]
    }
   ],
   "source": [
    "from dataset.utils import transform_text_1\n",
    "\n",
    "\n",
    "# текст отзыва  в виде чисел (токенизация)\n",
    "result = transform_text_1(neg2[2], path_vocab)\n",
    "print(' '.join(str(num) for num in result))"
   ]
  },
  {
   "cell_type": "markdown",
   "id": "ce377351-c750-4fe3-9909-e0910ce9fafc",
   "metadata": {
    "tags": []
   },
   "source": [
    "### 6. разбиение исходного датасета по классам (рейтингу)"
   ]
  },
  {
   "cell_type": "code",
   "execution_count": null,
   "id": "bfb06901-4bf1-471f-829a-fa71ce8e5796",
   "metadata": {
    "tags": []
   },
   "outputs": [],
   "source": [
    "# preprocess_text(neg1, folders)\n",
    "# preprocess_text(neg2, folders)\n",
    "# preprocess_text(pos1, folders)\n",
    "# preprocess_text(pos2, folders)"
   ]
  },
  {
   "cell_type": "code",
   "execution_count": null,
   "id": "dabcec70",
   "metadata": {},
   "outputs": [],
   "source": []
  },
  {
   "cell_type": "markdown",
   "id": "7e08e23b",
   "metadata": {},
   "source": [
    "### 7. "
   ]
  },
  {
   "cell_type": "code",
   "execution_count": null,
   "id": "aa907034",
   "metadata": {},
   "outputs": [
    {
     "name": "stdout",
     "output_type": "stream",
     "text": [
      "['the', 'and', 'a', 'of', 'to', 'is', 'it', 'in', 'i', 'this']\n",
      "89527\n",
      "39998\n"
     ]
    }
   ],
   "source": [
    "# загрузка словаря и просмотр первых 10 слов\n",
    "vocab = vocab_read(path_vocab)\n",
    "print(vocab[:10])\n",
    "n =len(vocab)\n",
    "print(n)\n",
    "vocab = vocab[:39998]\n",
    "print(len(vocab))\n",
    "\n",
    "\n",
    "# Параметры модели и тренировки\n",
    "input_size = len(vocab) + 2  # Предполагаемый размер словаря (число уникальных слов)\n",
    "\n",
    "hidden_size = 128\n",
    "num_classes = 8  # Два класса: положительный и отрицательный отзыв\n",
    "num_epochs = 10\n",
    "batch_size = 32\n",
    "learning_rate = 0.001\n",
    "\n",
    "len_text = 280  # длина текста (клоичество слов) используемая для оценки \n",
    "\n"
   ]
  },
  {
   "cell_type": "code",
   "execution_count": null,
   "id": "92cf823e-c0bd-4ddf-88ca-c79d3bc3af16",
   "metadata": {},
   "outputs": [],
   "source": [
    "from dataset.utils import create_balanced_and_test_datasets\n",
    "import pickle\n",
    "\n",
    "dataset_new = os.path.join(path_1, 'data/dataset_new/')\n",
    "# Путь к датасету\n",
    "base_path = dataset_new\n",
    "# vocab = [...]  # ваш список слов\n",
    "len_text = 280\n",
    "\n",
    "balanced_data, balanced_labels, test_data, test_labels = create_balanced_and_test_datasets(base_path, vocab, len_text, rand=False)\n",
    "\n",
    "# Сохраняем оба датасета по отдельности\n",
    "with open('data/balanced_dataset.pkl', 'wb') as f:\n",
    "    pickle.dump((balanced_data, balanced_labels), f)\n",
    "\n",
    "with open('data/test_dataset.pkl', 'wb') as f:\n",
    "    pickle.dump((test_data, test_labels), f)\n",
    "\n",
    "print(\"Сбалансированный датасет сохранён в 'balanced_dataset.pkl'\")\n",
    "print(\"Тестовый датасет сохранён в 'test_dataset.pkl'\")\n"
   ]
  },
  {
   "cell_type": "code",
   "execution_count": null,
   "id": "bd7ce073",
   "metadata": {},
   "outputs": [],
   "source": []
  },
  {
   "cell_type": "code",
   "execution_count": null,
   "id": "6a6171de",
   "metadata": {},
   "outputs": [],
   "source": []
  },
  {
   "cell_type": "code",
   "execution_count": null,
   "id": "b7089358",
   "metadata": {},
   "outputs": [],
   "source": []
  },
  {
   "cell_type": "code",
   "execution_count": null,
   "id": "b9fcce25",
   "metadata": {},
   "outputs": [],
   "source": []
  }
 ],
 "metadata": {
  "kernelspec": {
   "display_name": "env1",
   "language": "python",
   "name": "python3"
  },
  "language_info": {
   "codemirror_mode": {
    "name": "ipython",
    "version": 3
   },
   "file_extension": ".py",
   "mimetype": "text/x-python",
   "name": "python",
   "nbconvert_exporter": "python",
   "pygments_lexer": "ipython3",
   "version": "3.12.3"
  }
 },
 "nbformat": 4,
 "nbformat_minor": 5
}
