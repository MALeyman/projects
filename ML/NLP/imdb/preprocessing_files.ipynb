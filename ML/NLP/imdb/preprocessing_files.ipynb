{
 "cells": [
  {
   "cell_type": "markdown",
   "id": "771d0e8d-f631-461f-85da-a9bc40e93062",
   "metadata": {
    "tags": []
   },
   "source": [
    "# Предобработка файлов"
   ]
  },
  {
   "cell_type": "markdown",
   "id": "af5d69c9-4a27-4477-a6e6-24b887029759",
   "metadata": {},
   "source": [
    "### 1. подключение библиотек"
   ]
  },
  {
   "cell_type": "code",
   "execution_count": 1,
   "id": "0c06a1d7-c85d-491a-82da-a5a270368540",
   "metadata": {
    "tags": []
   },
   "outputs": [],
   "source": [
    "import os \n",
    "import pathlib \n",
    "import numpy as np\n",
    "from glob import glob\n",
    "from dataset.utils import create_balanced_and_test_datasets\n",
    "import pickle\n",
    "import shutil"
   ]
  },
  {
   "cell_type": "markdown",
   "id": "ac0d337c-29ee-43de-9f4f-82afbd3a2c64",
   "metadata": {},
   "source": [
    "### 2. Пути к файлам"
   ]
  },
  {
   "cell_type": "code",
   "execution_count": 2,
   "id": "f4a456e9-52c1-447f-93da-17cf48e9741e",
   "metadata": {
    "tags": []
   },
   "outputs": [
    {
     "data": {
      "text/plain": [
       "'/home/maksim/develops/python/projects/ML/NLP/imdb'"
      ]
     },
     "execution_count": 2,
     "metadata": {},
     "output_type": "execute_result"
    }
   ],
   "source": [
    "# Текущее положение\n",
    "path_1 = os.getcwd()\n",
    "path_1"
   ]
  },
  {
   "cell_type": "code",
   "execution_count": 3,
   "id": "da8bc63d-47bd-40c9-9155-e181e8ec78b8",
   "metadata": {
    "tags": []
   },
   "outputs": [],
   "source": [
    "# Расположение файла для кодировки слов\n",
    "path_vocab = 'imdb.vocab'"
   ]
  },
  {
   "cell_type": "code",
   "execution_count": 4,
   "id": "87e27a8c",
   "metadata": {},
   "outputs": [
    {
     "name": "stdout",
     "output_type": "stream",
     "text": [
      "data\t\t    imdb.vocab\t\t       Site\n",
      "dataset\t\t    model_NET.ipynb\t       отчёт_отзывы_к_фильмам.pdf\n",
      "dataset3.ipynb\t    preprocessing_files.ipynb\n",
      "film_predict.ipynb  README.md\n"
     ]
    }
   ],
   "source": [
    "!ls"
   ]
  },
  {
   "cell_type": "code",
   "execution_count": 5,
   "id": "75343467-b2e3-4476-8544-73ca2977315e",
   "metadata": {
    "tags": []
   },
   "outputs": [],
   "source": [
    "#  Новые пути к обработанным файлам\n",
    "\n",
    "c1 = os.path.join(path_1, 'data/dataset_new/1/')\n",
    "c2 = os.path.join(path_1, 'data/dataset_new/2/')\n",
    "c3 = os.path.join(path_1, 'data/dataset_new/3/')\n",
    "c4 = os.path.join(path_1, 'data/dataset_new/4')\n",
    "\n",
    "\n",
    "c7 = os.path.join(path_1, 'data/dataset_new/7/')\n",
    "c8 = os.path.join(path_1, 'data/dataset_new/8/')\n",
    "c9  = os.path.join(path_1, 'data/dataset_new/9/')\n",
    "c10 = os.path.join(path_1, 'data/dataset_new/10/')\n"
   ]
  },
  {
   "cell_type": "code",
   "execution_count": 6,
   "id": "5f69789a",
   "metadata": {},
   "outputs": [
    {
     "name": "stdout",
     "output_type": "stream",
     "text": [
      "Папка создана или уже существует: /home/maksim/develops/python/projects/ML/NLP/imdb/data/dataset_new/10/\n",
      "Папка создана или уже существует: /home/maksim/develops/python/projects/ML/NLP/imdb/data/dataset_new/1/\n",
      "Папка создана или уже существует: /home/maksim/develops/python/projects/ML/NLP/imdb/data/dataset_new/2/\n",
      "Папка создана или уже существует: /home/maksim/develops/python/projects/ML/NLP/imdb/data/dataset_new/3/\n",
      "Папка создана или уже существует: /home/maksim/develops/python/projects/ML/NLP/imdb/data/dataset_new/4/\n",
      "Папка создана или уже существует: /home/maksim/develops/python/projects/ML/NLP/imdb/data/dataset_new/7/\n",
      "Папка создана или уже существует: /home/maksim/develops/python/projects/ML/NLP/imdb/data/dataset_new/8/\n",
      "Папка создана или уже существует: /home/maksim/develops/python/projects/ML/NLP/imdb/data/dataset_new/9/\n"
     ]
    }
   ],
   "source": [
    "import os\n",
    "\n",
    "c1 = os.path.join(path_1, 'data/dataset_new/1/')\n",
    "c2 = os.path.join(path_1, 'data/dataset_new/2/')\n",
    "c3 = os.path.join(path_1, 'data/dataset_new/3/')\n",
    "c4 = os.path.join(path_1, 'data/dataset_new/4/')\n",
    "\n",
    "c7 = os.path.join(path_1, 'data/dataset_new/7/')\n",
    "c8 = os.path.join(path_1, 'data/dataset_new/8/')\n",
    "c9 = os.path.join(path_1, 'data/dataset_new/9/')\n",
    "c10 = os.path.join(path_1, 'data/dataset_new/10/')\n",
    "\n",
    "folders = [c10, c1, c2, c3, c4, c7, c8, c9]\n",
    "\n",
    "for folder in folders:\n",
    "    os.makedirs(folder, exist_ok=True)\n",
    "    print(f'Папка создана или уже существует: {folder}')\n"
   ]
  },
  {
   "cell_type": "code",
   "execution_count": 7,
   "id": "df060d56-95da-4605-9391-6b6b18a1a7c6",
   "metadata": {
    "tags": []
   },
   "outputs": [],
   "source": [
    "# пути к исходному датасету\n",
    "path_neg_1 = os.path.join(path_1, 'data/dataset_old/neg_1/')\n",
    "path_pos_1 = os.path.join(path_1, 'data/dataset_old/pos_1/')\n",
    "\n",
    "path_neg_2 = os.path.join(path_1, 'data/dataset_old/neg_2/')\n",
    "path_pos_2 = os.path.join(path_1, 'data/dataset_old/pos_2/')"
   ]
  },
  {
   "cell_type": "code",
   "execution_count": 8,
   "id": "ff7de63c-3254-4a10-8b05-a81249d6fa82",
   "metadata": {
    "tags": []
   },
   "outputs": [
    {
     "data": {
      "text/plain": [
       "'/home/maksim/develops/python/projects/ML/NLP/imdb/data/dataset_old/neg_1/'"
      ]
     },
     "execution_count": 8,
     "metadata": {},
     "output_type": "execute_result"
    }
   ],
   "source": [
    "path_neg_1"
   ]
  },
  {
   "cell_type": "code",
   "execution_count": 9,
   "id": "d6fe3ae7-43f4-4763-81de-65c98ecc8d61",
   "metadata": {
    "tags": []
   },
   "outputs": [],
   "source": [
    "neg2 = np.array((glob(os.path.join(path_neg_2, '*'))))\n",
    "\n",
    "pos2 = np.array((glob(os.path.join(path_pos_2, '*'))))\n",
    "\n",
    "neg1 = np.array((glob(os.path.join(path_neg_1, '*'))))\n",
    "\n",
    "pos1 = np.array((glob(os.path.join(path_pos_1, '*'))))"
   ]
  },
  {
   "cell_type": "code",
   "execution_count": 10,
   "id": "a1fe3deb-472b-44d5-b09f-e4c2a74d0270",
   "metadata": {
    "tags": []
   },
   "outputs": [
    {
     "data": {
      "text/plain": [
       "12500"
      ]
     },
     "execution_count": 10,
     "metadata": {},
     "output_type": "execute_result"
    }
   ],
   "source": [
    "len(pos1)"
   ]
  },
  {
   "cell_type": "code",
   "execution_count": 11,
   "id": "7f1445c4-9293-49bf-9025-ab7761078819",
   "metadata": {
    "tags": []
   },
   "outputs": [
    {
     "data": {
      "text/plain": [
       "np.str_('/home/maksim/develops/python/projects/ML/NLP/imdb/data/dataset_old/neg_2/5488_2.txt')"
      ]
     },
     "execution_count": 11,
     "metadata": {},
     "output_type": "execute_result"
    }
   ],
   "source": [
    "neg2[0]"
   ]
  },
  {
   "cell_type": "markdown",
   "id": "8d0a011a-259d-4895-b6fc-8cbff84e8a6b",
   "metadata": {
    "tags": []
   },
   "source": [
    "### 3. вспомогательные функции"
   ]
  },
  {
   "cell_type": "code",
   "execution_count": 12,
   "id": "5245291a",
   "metadata": {},
   "outputs": [],
   "source": [
    "from dataset.utils import read_file, str_name, inv1, preprocess_text, vocab_read"
   ]
  },
  {
   "cell_type": "markdown",
   "id": "b6dafcda-2762-4485-8fba-98a7b53d9dd5",
   "metadata": {},
   "source": [
    "### 4. Просмотрим пример отзыва"
   ]
  },
  {
   "cell_type": "code",
   "execution_count": 13,
   "id": "6bde28a0-9746-441a-94e4-bb01611d73f6",
   "metadata": {
    "tags": []
   },
   "outputs": [
    {
     "name": "stdout",
     "output_type": "stream",
     "text": [
      "Why on earth is Colin Firth in this pointless film? Has he really been that strapped for cash?<br /><br />The film isn't clear on what it wants to be about, grief?, exotic places?, ghosts?, a vehicle for Mr Darcy? It's a muddled, muddy mess.<br /><br />There seems to be some sort of idea that Italy must be good, in itself, and that Italian has something to offer as a language - but in the end the girls just want to go back to yankland.<br /><br />There are pointless episodes on the beach, in churches, on busy roads - but what it is all about, or why anybody should care simply isn't clear.<br /><br />There was also a yank woman in the film. It wasn't clear what here job was, but she seemed only to be there to make vapid, inappropriate and maudlin comments to the girl. Was it supposed to be about paedophillia??<br /><br />A pretty dreadful mess, all in all. I gave it 2 rather than 1 because it doesn't have the charm of an utterly ghastly film.\n"
     ]
    }
   ],
   "source": [
    "#  текст отзыва\n",
    "f = read_file(neg2[0])"
   ]
  },
  {
   "cell_type": "markdown",
   "id": "e9d3d521",
   "metadata": {},
   "source": [
    "### 5. Пример отзыва токенезированный"
   ]
  },
  {
   "cell_type": "code",
   "execution_count": 14,
   "id": "9cca58db-1384-422c-865a-a8d74619601c",
   "metadata": {
    "tags": []
   },
   "outputs": [
    {
     "name": "stdout",
     "output_type": "stream",
     "text": [
      "10 18 1526 412 56 1498 8 0 833 860 8 0 2528 17 131 23 41 106 178 11 211 5 335 99 145 10 2842 208 11 44 56 1660 5 1103 0 62 6 42 47115 129 25546 5354 2926 2933 18563 83055 0 0 33 638 24 158 308 2599 0 0 4133 19 87 15 3 22177 10117 0 0 99 61 27 251 19 64 0 711 3480 338 18563 2 24 116 434 8129 0 6426 0 138 5 3 1047 2 528 81 6312 1725 0 0 902 34 422 5 391 15 151 0 0 0 0 6312 6 26267 2 3693 2 443 11272 60 6 1 1906 4 33 18563 6 13 3 390 17 34 363 5 1292 2 18563 497 5 633 13 3 390 13 22 497 5 340 45 158 178 137 13 33977 1088 2 2151 20202 0 17 27 251 2599 257 142 2 474 5 2322 984 5 18563 17 22 63 149 177 5 17 6312 1026 5 543 13 52 149 256 8 1316 5 865 0 0 0 18 6 1 331 906 752 31 291 13879 33 1042 106 1179 1898 8131 8 0 2 0 1 0 17 144 106 105 297 37 2138 1040 5 10 4706 405 4 0 0 53 757 5 132 139 6 20 159 17 9 101 15 10 18 0 54 3327 5 801 45 0 10 18 6 468 2 1200 703 35 363 5 1327 15 172 133 285 13 43 0 61 1395 83 4 1 12958 4 1 0 13879 33 80 1042 1 222 181 5 25 417 10 201 98 199 4 258 139 262 2 30 203 22 181 5 26 258 5 7071 1 168 1660 13 0 139 42 0 17 295 1 665 297 929 0 118 244 63 101 1 1982 30365 12 0 43 21 0 126 0 3 166 203 303 1 18 102 59 5252 25 131 890 5904 11 23 408 5 9885 273 17 29 34 2648 6 37403 1 0 3694 476 3 170 17 267 22 140 161 323 2 41 826 14 1 124 3101 5 211 24 94 83 10 18 149 161 13 3 208 40 13 3 0\n"
     ]
    }
   ],
   "source": [
    "from dataset.utils import transform_text_1, transform_text_2\n",
    "\n",
    "\n",
    "# текст отзыва  в виде чисел (токенизация)\n",
    "result = transform_text_1(neg2[2], path_vocab)\n",
    "print(' '.join(str(num) for num in result))"
   ]
  },
  {
   "cell_type": "markdown",
   "id": "ce377351-c750-4fe3-9909-e0910ce9fafc",
   "metadata": {
    "tags": []
   },
   "source": [
    "### 6. разбиение исходного датасета по классам (рейтингу)"
   ]
  },
  {
   "cell_type": "code",
   "execution_count": 15,
   "id": "bfb06901-4bf1-471f-829a-fa71ce8e5796",
   "metadata": {
    "tags": []
   },
   "outputs": [],
   "source": [
    "# preprocess_text(neg1, folders)\n",
    "# preprocess_text(neg2, folders)\n",
    "# preprocess_text(pos1, folders)\n",
    "# preprocess_text(pos2, folders)"
   ]
  },
  {
   "cell_type": "markdown",
   "id": "7e08e23b",
   "metadata": {},
   "source": [
    "### 7. Токенизация датасета и разделение (отделение сбалансированной части)"
   ]
  },
  {
   "cell_type": "code",
   "execution_count": 16,
   "id": "aa907034",
   "metadata": {},
   "outputs": [
    {
     "name": "stdout",
     "output_type": "stream",
     "text": [
      "['the', 'and', 'a', 'of', 'to', 'is', 'it', 'in', 'i', 'this']\n",
      "89527\n",
      "39998\n"
     ]
    }
   ],
   "source": [
    "# загрузка словаря и просмотр первых 10 слов\n",
    "vocab = vocab_read(path_vocab)\n",
    "print(vocab[:10])\n",
    "n =len(vocab)\n",
    "print(n)\n",
    "vocab = vocab[:39998]\n",
    "print(len(vocab))\n",
    "\n",
    "\n",
    "# Параметры модели и тренировки\n",
    "input_size = len(vocab) + 2  # Предполагаемый размер словаря (число уникальных слов)\n",
    "\n",
    "hidden_size = 128\n",
    "num_classes = 8  # Два класса: положительный и отрицательный отзыв\n",
    "num_epochs = 10\n",
    "batch_size = 32\n",
    "learning_rate = 0.001\n",
    "\n",
    "len_text = 280  # длина текста (клоичество слов) используемая для оценки \n",
    "\n"
   ]
  },
  {
   "cell_type": "code",
   "execution_count": null,
   "id": "92cf823e-c0bd-4ddf-88ca-c79d3bc3af16",
   "metadata": {},
   "outputs": [],
   "source": [
    "from dataset.utils import create_balanced_and_test_datasets\n",
    "import pickle\n",
    "\n",
    "dataset_new = os.path.join(path_1, 'data/dataset_new/')\n",
    "# Путь к датасету\n",
    "base_path = dataset_new\n",
    "len_text = 280\n",
    "\n",
    "balanced_data, balanced_labels, test_data, test_labels = create_balanced_and_test_datasets(base_path, vocab, len_text, rand=False)\n",
    "\n",
    "# Сохраняем оба датасета по отдельности\n",
    "with open('data/balanced_dataset.pkl', 'wb') as f:\n",
    "    pickle.dump((balanced_data, balanced_labels), f)\n",
    "\n",
    "with open('data/test_dataset.pkl', 'wb') as f:\n",
    "    pickle.dump((test_data, test_labels), f)\n",
    "\n",
    "print(\"Сбалансированный датасет сохранён в 'balanced_dataset.pkl'\")\n",
    "print(\"Тестовый датасет сохранён в 'test_dataset.pkl'\")\n"
   ]
  },
  {
   "cell_type": "code",
   "execution_count": 17,
   "id": "bd7ce073",
   "metadata": {},
   "outputs": [
    {
     "name": "stdout",
     "output_type": "stream",
     "text": [
      "Отзыв #1:\n",
      "Вектор: [0, 0, 0, 0, 0, 0, 0, 0, 0, 0, 0, 0, 0, 0, 0, 0, 0, 0, 0, 0, 0, 0, 0, 0, 0, 0, 0, 0, 0, 0, 0, 0, 0, 0, 0, 0, 0, 0, 0, 0, 0, 0, 0, 0, 0, 0, 0, 0, 0, 0, 0, 0, 0, 0, 0, 0, 0, 0, 0, 0, 0, 0, 0, 0, 313, 0, 9765, 307, 7, 2, 0, 313, 3331, 17, 9, 2, 0, 0, 8, 64, 45, 158, 6, 83, 16, 2, 195, 290, 313, 3331, 101, 533, 49, 5, 2, 103, 24, 409, 6, 27, 2857, 6, 2, 103, 9, 2, 195, 2303, 3, 4913, 8890, 7, 9, 8, 0, 12, 225, 76, 125, 0, 0, 0, 7, 54, 114, 6, 6980, 11, 17, 0, 39, 682, 99, 160, 0, 2, 111, 7, 1291, 6, 0, 254, 2, 238, 16, 2, 0, 1147, 61, 902, 51, 38, 4, 0, 10117, 5, 4, 684, 236, 4441, 6, 27, 4, 11056, 32, 749, 2, 685, 0, 11, 17, 163, 70, 233, 38, 138, 33, 0, 135, 156, 10, 6629, 6, 4, 1155, 115, 1212, 260, 6, 796, 0, 1315, 207, 50, 0, 506, 4116, 190, 65, 1603, 131, 9, 0, 1315, 45, 13984, 20615, 383, 202, 2, 9003, 5, 5243, 3, 0, 3, 22, 68, 33277, 30, 130, 4, 0, 211, 4351, 202, 40, 0, 0, 11, 201, 45, 10151, 396, 6, 2, 1492, 5, 11420, 0, 268, 15, 2, 363, 0, 3583, 401, 987, 185, 3, 3599, 2605, 3226, 14, 2, 0, 144, 243, 35, 68, 42, 4603, 8, 9, 6, 2, 201, 32, 246, 25, 104, 0, 0, 1565, 277, 3939, 41, 140, 38, 0]\n",
      "Метка (рейтинг): 1\n",
      "----------------------------------------\n",
      "Отзыв #2:\n",
      "Вектор: [0, 0, 0, 0, 0, 0, 0, 0, 0, 0, 0, 0, 0, 0, 0, 0, 0, 0, 0, 0, 0, 0, 0, 0, 0, 0, 0, 0, 0, 0, 0, 0, 0, 0, 0, 0, 0, 0, 0, 0, 0, 0, 0, 0, 0, 0, 0, 0, 0, 0, 0, 0, 0, 0, 0, 0, 0, 0, 0, 0, 0, 0, 0, 0, 10, 13, 566, 11, 60, 27, 4, 703, 17, 283, 0, 10, 233, 12, 10, 13, 17157, 100, 308, 11, 4294, 0, 2, 113, 7, 4, 2437, 96, 5, 438, 106, 31, 0, 55, 2, 412, 7, 4, 190, 20, 155, 19, 44, 22, 68, 194, 2, 17, 12, 74, 0, 10, 235, 770, 6, 133, 12, 10, 13, 608, 6, 2, 0, 10, 563, 429, 127, 59, 20, 11, 0, 11, 17, 715, 6, 27, 4, 727, 5, 15031, 34, 184, 289, 3, 92, 4, 330, 314, 5, 4, 17, 20, 4, 2374, 16, 4, 4792, 0, 110, 9, 2, 696, 0, 10, 68, 1820, 4, 527, 19, 3, 11, 28, 975, 6, 27, 25104, 41, 0, 56, 0, 1225, 6, 4, 345, 38, 2, 0, 3305, 5, 2, 0, 20, 4, 2561, 5, 0, 6, 0, 55, 4, 0, 7, 110, 316, 6, 1131, 84, 11, 17, 0, 0, 5610, 5, 47, 0, 2, 1131, 349, 6, 759, 16, 65, 7417, 0, 44, 22, 83, 653, 2, 17, 572, 27, 1170, 9, 127, 0, 11, 28, 182, 6, 26, 75, 7041, 58, 3, 19031, 32, 4, 0, 39, 24, 4, 167, 34, 26, 109, 11, 15, 47, 8, 7, 3, 5476, 0, 0, 0, 10, 26, 6, 133, 11, 7, 28, 6, 27, 0]\n",
      "Метка (рейтинг): 1\n",
      "----------------------------------------\n",
      "Отзыв #3:\n",
      "Вектор: [0, 0, 0, 0, 0, 0, 0, 0, 0, 0, 0, 0, 0, 0, 0, 0, 0, 0, 0, 0, 0, 0, 0, 0, 0, 0, 0, 0, 0, 0, 0, 0, 0, 0, 0, 0, 0, 0, 0, 0, 0, 0, 0, 0, 0, 0, 0, 0, 0, 0, 0, 0, 0, 0, 0, 0, 0, 0, 0, 0, 0, 0, 0, 0, 0, 0, 0, 0, 0, 0, 0, 0, 0, 0, 0, 0, 0, 0, 0, 0, 0, 0, 0, 0, 0, 0, 0, 0, 0, 0, 0, 0, 0, 0, 0, 0, 0, 0, 0, 0, 0, 0, 0, 0, 0, 0, 0, 0, 0, 0, 0, 0, 0, 0, 0, 0, 0, 0, 0, 0, 0, 0, 0, 0, 0, 0, 0, 0, 0, 0, 0, 0, 0, 0, 0, 0, 0, 0, 0, 0, 0, 0, 0, 0, 0, 0, 0, 0, 0, 0, 0, 78, 139, 185, 9, 460, 14, 2, 319, 2, 17, 3504, 470, 2, 780, 1012, 0, 86, 35, 1366, 175, 6, 502, 2172, 0, 93, 35, 7041, 58, 2, 2832, 1690, 1142, 3, 149, 10302, 61, 7, 32, 232, 2, 242, 17, 5, 2, 0, 47, 7, 8, 0, 34, 2, 2246, 0, 91, 376, 5, 14102, 3, 4758, 16, 79, 0, 10, 206, 38, 6, 759, 3, 105, 2, 0, 18, 52, 11, 151, 13, 130, 10, 411, 76, 46, 5, 2, 17, 1644, 812, 0, 89, 5, 2, 297, 12, 6897, 2, 763, 12, 10, 13, 0, 404, 180, 74, 2, 169, 0, 5585, 69, 6381, 16, 247, 80, 14, 73, 14, 0, 0, 33, 1525, 3, 6634, 19, 12, 78, 96, 22, 233, 1525, 3, 0]\n",
      "Метка (рейтинг): 1\n",
      "----------------------------------------\n",
      "Отзыв #4:\n",
      "Вектор: [0, 0, 0, 0, 0, 0, 0, 0, 0, 0, 0, 0, 0, 0, 0, 0, 0, 0, 0, 0, 0, 0, 0, 0, 0, 0, 0, 0, 0, 0, 0, 0, 0, 0, 0, 0, 0, 0, 0, 0, 0, 0, 0, 0, 0, 0, 0, 0, 0, 0, 0, 0, 0, 0, 0, 0, 0, 0, 0, 0, 0, 0, 0, 0, 0, 0, 0, 0, 0, 0, 0, 0, 0, 0, 0, 0, 0, 0, 0, 0, 0, 0, 0, 0, 0, 0, 0, 0, 0, 0, 0, 0, 0, 0, 0, 0, 0, 0, 0, 0, 0, 0, 0, 0, 0, 0, 0, 0, 0, 0, 0, 0, 0, 0, 0, 0, 0, 0, 0, 10, 362, 10, 215, 11, 1059, 52, 10, 13, 0, 41, 0, 56, 4399, 1597, 58, 2, 381, 5, 8, 15, 916, 31, 2, 0, 10, 362, 12, 8, 64, 0, 2, 113, 67, 57, 0, 10, 1747, 2, 1595, 12, 847, 0, 0, 23, 13, 37, 0, 6129, 3724, 25, 414, 131, 44, 23, 411, 164, 4, 0, 37, 0, 76, 130, 0, 2, 62, 50, 172, 3, 10, 90, 178, 6, 471, 11065, 13, 52, 2, 1595, 184, 317, 3, 1091, 31, 2, 0, 10, 1441, 56, 414, 131, 9, 17089, 84, 11, 1059, 2008, 37, 0, 2, 79, 1604, 7, 2, 1595, 24517, 3, 446, 4, 0, 10, 636, 23, 67, 2619, 0, 10, 102, 10, 55, 499, 2, 381, 5, 11, 6, 1733, 84, 10, 1747, 0, 57, 574, 35, 69, 3902, 8, 15, 916, 31, 2, 0, 44, 22, 26, 4, 484, 90, 273, 94, 105, 0, 35, 78, 234, 1006, 16, 70, 12, 8, 0]\n",
      "Метка (рейтинг): 1\n",
      "----------------------------------------\n",
      "Отзыв #5:\n",
      "Вектор: [0, 0, 0, 0, 0, 0, 0, 0, 0, 0, 0, 0, 0, 0, 0, 0, 0, 0, 0, 0, 0, 0, 0, 0, 0, 0, 0, 0, 0, 0, 0, 0, 0, 0, 0, 0, 0, 0, 0, 0, 0, 0, 0, 0, 0, 0, 0, 0, 0, 0, 0, 0, 0, 21, 62, 122, 11, 17, 26, 4, 330, 0, 79, 0, 3, 375, 0, 91, 1960, 58, 4, 219, 159, 1223, 6, 0, 0, 0, 11, 19, 0, 4752, 24, 2, 0, 0, 951, 24, 2, 0, 0, 3, 1074, 0, 0, 0, 14913, 24, 9109, 3408, 0, 0, 0, 42, 574, 47, 60, 571, 44, 10, 92, 2, 2528, 169, 17, 16, 2, 2528, 169, 63, 359, 3, 0, 62, 10, 92, 8, 43, 0, 0, 0, 91, 50, 6, 401, 66, 0, 2151, 4070, 145, 322, 0, 0, 0, 182, 6, 1442, 0, 18, 105, 11, 19, 170, 3, 474, 7128, 31, 87, 35, 26, 964, 2, 159, 8566, 0, 0, 30, 5, 4, 2043, 91, 443, 1520, 34, 24, 2, 285, 1056, 5, 1336, 0, 3, 15467, 46, 15, 4, 1641, 0, 62, 0, 506, 26, 4, 0, 0, 57, 138, 151, 14, 4, 0, 443, 0, 0, 0, 24974, 70, 12, 35, 411, 96, 11, 19, 202, 718, 2, 12125, 1778, 9, 159, 8566, 4, 6132, 0, 44, 22, 102, 144, 0, 139, 105, 11, 0, 3, 66, 47, 22, 96, 5, 2, 0, 0, 42, 84, 0, 2203, 6, 662, 175, 0, 0, 9, 751, 0, 150, 373, 91, 0, 44, 10, 294, 1343, 322, 419, 613, 1888, 56, 0, 0, 0, 66, 11, 0, 90, 429, 127, 0, 90, 27, 0]\n",
      "Метка (рейтинг): 1\n",
      "----------------------------------------\n"
     ]
    }
   ],
   "source": [
    "import pickle\n",
    "\n",
    "with open('data/balanced_dataset.pkl', 'rb') as f:\n",
    "    data_loaded, labels_loaded = pickle.load(f)\n",
    "\n",
    "for i in range(5):\n",
    "    print(f\"Отзыв #{i+1}:\")\n",
    "    print(\"Вектор:\", data_loaded[i])\n",
    "    print(\"Метка (рейтинг):\", labels_loaded[i])\n",
    "    print(\"-\" * 40)\n"
   ]
  },
  {
   "cell_type": "code",
   "execution_count": 18,
   "id": "36b19a62",
   "metadata": {},
   "outputs": [
    {
     "name": "stdout",
     "output_type": "stream",
     "text": [
      "39998\n"
     ]
    },
    {
     "data": {
      "text/plain": [
       "40000"
      ]
     },
     "execution_count": 18,
     "metadata": {},
     "output_type": "execute_result"
    }
   ],
   "source": [
    "print(len(vocab))\n",
    "input_size"
   ]
  },
  {
   "cell_type": "code",
   "execution_count": null,
   "id": "ae48bfa0",
   "metadata": {},
   "outputs": [],
   "source": []
  },
  {
   "cell_type": "markdown",
   "id": "b5fdfbfb",
   "metadata": {},
   "source": [
    "### 8. Загрузка и разделение датасета"
   ]
  },
  {
   "cell_type": "code",
   "execution_count": 51,
   "id": "28f42fc3",
   "metadata": {},
   "outputs": [],
   "source": [
    "import torch\n",
    "from torch.utils.data import Dataset, DataLoader\n",
    "from sklearn.model_selection import train_test_split\n",
    "\n",
    "train_data, val_data, train_labels, val_labels = train_test_split(\n",
    "    data_loaded, labels_loaded, test_size=0.2, random_state=42, stratify=labels_loaded\n",
    ")\n",
    "\n",
    "\n"
   ]
  },
  {
   "cell_type": "code",
   "execution_count": 52,
   "id": "70d18b09",
   "metadata": {},
   "outputs": [],
   "source": [
    "import torch\n",
    "from torch.utils.data import Dataset\n",
    "import random\n",
    "\n",
    "def augment_random_replace(tensor, replace_prob=0.1):\n",
    "    # tensor - 1D список или тензор чисел\n",
    "    # с вероятностью replace_prob заменяем элементы != 0 на 1\n",
    "    augmented = []\n",
    "    for x in tensor:\n",
    "        if x != 0 and random.random() < replace_prob:\n",
    "            augmented.append(1)\n",
    "        else:\n",
    "            augmented.append(x)\n",
    "    return augmented\n",
    "\n",
    "class ReviewDatasetWithAug(Dataset):\n",
    "    def __init__(self, data, labels, augment=False, replace_prob=0.1):\n",
    "        self.data = data\n",
    "        self.labels = labels\n",
    "        self.augment = augment\n",
    "        self.replace_prob = replace_prob\n",
    "\n",
    "    def __len__(self):\n",
    "        return len(self.data)\n",
    "\n",
    "    def __getitem__(self, idx):\n",
    "        x = self.data[idx]\n",
    "        y = self.labels[idx]\n",
    "\n",
    "        if self.augment:\n",
    "            x = augment_random_replace(x, self.replace_prob)\n",
    "\n",
    "        x_tensor = torch.tensor(x, dtype=torch.long)\n",
    "        y_tensor = torch.tensor(y, dtype=torch.long)\n",
    "\n",
    "        return x_tensor, y_tensor\n"
   ]
  },
  {
   "cell_type": "code",
   "execution_count": 67,
   "id": "725aa0c0",
   "metadata": {},
   "outputs": [],
   "source": [
    "train_dataset = ReviewDatasetWithAug(train_data, train_labels, augment=True, replace_prob=0.05)\n",
    "val_dataset = ReviewDatasetWithAug(val_data, val_labels, augment=False)\n",
    "\n",
    "# Создание DataLoader для батчей\n",
    "train_loader = DataLoader(train_dataset, batch_size=32, shuffle=True, num_workers=0)\n",
    "val_loader = DataLoader(val_dataset, batch_size=32, shuffle=False, num_workers=0)\n"
   ]
  },
  {
   "cell_type": "code",
   "execution_count": 69,
   "id": "255cacac",
   "metadata": {},
   "outputs": [
    {
     "name": "stdout",
     "output_type": "stream",
     "text": [
      "Данные (текст в числовом виде):\n",
      "tensor([[  62,  277,    9,  ...,    4, 2777,  714],\n",
      "        [   0,    0,    0,  ...,    1,  173,    0],\n",
      "        [   0,    0,    0,  ...,   42,    0,    0],\n",
      "        ...,\n",
      "        [   0,    0,    0,  ...,    0,   50,    0],\n",
      "        [   0,    0,    0,  ..., 7753,   22,    0],\n",
      "        [   0,    0,    0,  ..., 1052,  676,    0]])\n",
      "Метки (рейтинги):\n",
      "tensor([ 9,  7,  9,  3,  9,  4, 10,  1,  3,  2,  7,  8,  1,  9,  8,  9,  2,  4,\n",
      "         7,  3,  4,  7,  4,  3,  9,  2,  1,  8,  9,  7, 10,  9])\n"
     ]
    }
   ],
   "source": [
    "\n",
    "\n",
    "# Получаем один батч (данные и метки)\n",
    "for batch_data, batch_labels in train_loader:\n",
    "    print(\"Данные (текст в числовом виде):\")\n",
    "    print(batch_data)         # тензор размера [batch_size, len_text]\n",
    "    print(\"Метки (рейтинги):\")\n",
    "    print(batch_labels)       # тензор размера [batch_size]\n",
    "    break  # чтобы показать только первый батч\n"
   ]
  },
  {
   "cell_type": "code",
   "execution_count": 70,
   "id": "30a3ea4e",
   "metadata": {},
   "outputs": [
    {
     "name": "stdout",
     "output_type": "stream",
     "text": [
      "Пример из батча (первый элемент):\n",
      "Данные: tensor([   62,   277,     9,     4,     1,    83,    71,    76,    33, 10868,\n",
      "          209,    12,   207,     0,    59,     3,     0,     0,    33,    55,\n",
      "        19843,   405,    52,     2,  1353,    78,    38,     0,    10,    42,\n",
      "          367,   143,    36,     2,     0,  5269,  3097,     3,    10,    68,\n",
      "         1204,     0,     8,    13,    28,     5,     2,  1084,   889,     5,\n",
      "           56,     0,    10,   423,     1,     4,     0,   763,     3,   173,\n",
      "         3379,    13,     0,    21,    62,     0,   288,  1441,    65,  2341,\n",
      "          131,     2,   219,    59,     0,     0,   107,   615,     5,  5518,\n",
      "            0,    10,  3267,    22,     6,    66,    11,    19,     3,     1,\n",
      "           21,     0,     0,     0,   113,     7,     0,     4,   126,     7,\n",
      "         5350,   152,     1,     1,    23,     7,     4,     0,     0,     1,\n",
      "           11,     0,   706,   332,     0,    71,    24,   338,     4,     0,\n",
      "         1271,    63,    12,     7,    21,    62,    28,     5,     2,  1472,\n",
      "          474,   123,     0,    18,    45,  1988,  2995,   486,     0,  1166,\n",
      "         4661,   379,    14,  1634,     0,     2,     0,  5269,     0,    71,\n",
      "           26,   625,  1166,     0,     0,     9,    56,     0,    28,     5,\n",
      "            2,   117,   134,  6592,     5,    30,     0,  3364,   619,   137,\n",
      "           36,  1370,  7785,     3,   254,     0,  1166,  4661,    45,   212,\n",
      "            4,   205,     0,    14,     0,     3,     0,     7,   338,    25,\n",
      "            1,     6,  4022,    14,     2,     0,    57,    28,    78,   828,\n",
      "           25,   395,   277,    35,     1,    11,     0,     0,     0,     0,\n",
      "          619,     0,     0,     0,   893,    43,     2,    19,     7,     8,\n",
      "          210,     0,     0,     1,   511,   473,     5,  5937, 19690,     3,\n",
      "         1166,  4661,  2010,    45,  1244,     3,     0,    21,    42,    28,\n",
      "          594,     5,     4,    63,     6,     0,   486,     2, 24301,     3,\n",
      "         5070,  5518,  1320,     5,     2,    19,   258,    33,   668,  1987,\n",
      "            6,    27,     0,   253,    21,  1304,     9,     2,   117,    95,\n",
      "            0,     2,     1,   390,   175,    51,    72,     4,  2777,   714])\n",
      "Метка: tensor(9)\n"
     ]
    }
   ],
   "source": [
    "print(\"Пример из батча (первый элемент):\")\n",
    "print(\"Данные:\", batch_data[0])\n",
    "print(\"Метка:\", batch_labels[0])\n"
   ]
  },
  {
   "cell_type": "code",
   "execution_count": null,
   "id": "a7706587",
   "metadata": {},
   "outputs": [],
   "source": []
  },
  {
   "cell_type": "code",
   "execution_count": null,
   "id": "895b4475",
   "metadata": {},
   "outputs": [],
   "source": []
  },
  {
   "cell_type": "code",
   "execution_count": 24,
   "id": "d1e8e12e",
   "metadata": {},
   "outputs": [],
   "source": [
    "def rating(num, data_test, labels_test):\n",
    "    text_example = transform_text_2(data_test, vocab, 15)\n",
    "    print(text_example)\n",
    "    text_example1 = data_test\n",
    "    print(text_example1[:150])\n",
    "    print('РЕЙТИНГ ФИЛЬМА: ', labels_test[num])"
   ]
  },
  {
   "cell_type": "code",
   "execution_count": 28,
   "id": "23f065ac",
   "metadata": {},
   "outputs": [
    {
     "name": "stdout",
     "output_type": "stream",
     "text": [
      "Everybody who wants to be an editor should watch this movie! It shows you about every mistake not to do in editing a movie! My grandma could have done better than that! But that's not the only reason why this movie is really bad! (It's actually so bad that I'm not able to write a sentence without exclamation mark!) If the first episode of Les Visiteurs' was a quite good familial comedy with funny jokes and cult dialogues, this sequel is copying badly the receipe of the first one. The funny parts could be counted on one hand and maybe half of it. Clavier is over-acting his role even more than in the first part, Robin is trying to act like Lemercier (because she's replacing her) but that's grotesque'. Lemercier is Lemercier, Robin is Robin! Even if Muriel Robin can be funny by herself on stage, she is not in this movie because she's not acting as she used to act. I know that it should be hard to replace somebody who was good in a role (Lemercier obtained a César award for her role in the first movie) but she made a big mistake: instead of playing her role, she played Lemercier playing her role'! As for the story, it's just too much! Of course we knew at he end of the first movie that there would be a sequel but Poiré and Clavier should hae tried to write a more simple story like the first episode. The gags are repetitive, childish and déjà-vu. No, really, there's no more than 3 funny parts in this. The only good things might be the costumes and some special effects. So you have only 2 reasons to watch it: 1) if you want to learn how to edit awfully a movie, 2) if you want to waste your time or if you really need a brainless moment'! 2/10\n"
     ]
    }
   ],
   "source": [
    "text = read_file(neg2[1000])"
   ]
  },
  {
   "cell_type": "code",
   "execution_count": 29,
   "id": "6a6171de",
   "metadata": {},
   "outputs": [
    {
     "name": "stdout",
     "output_type": "stream",
     "text": [
      "[1315, 34, 475, 6, 27, 33, 3655, 141, 105, 11, 0, 8, 278, 22, 43]\n",
      "Everybody who wants to be an editor should watch this movie! It shows you about every mistake not to do in editing a movie! My grandma could have done\n",
      "РЕЙТИНГ ФИЛЬМА:  2\n"
     ]
    }
   ],
   "source": [
    "\n",
    "\n",
    "rating(10000, text, labels_loaded)"
   ]
  },
  {
   "cell_type": "code",
   "execution_count": 27,
   "id": "b7089358",
   "metadata": {},
   "outputs": [
    {
     "data": {
      "text/plain": [
       "\"Everybody who wants to be an editor should watch this movie! It shows you about every mistake not to do in editing a movie! My grandma could have done better than that! But that's not the only reason why this movie is really bad! (It's actually so bad that I'm not able to write a sentence without exclamation mark!) If the first episode of \\x91Les Visiteurs' was a quite good familial comedy with funny jokes and cult dialogues, this sequel is copying badly the receipe of the first one. The funny parts could be counted on one hand and maybe half of it. Clavier is over-acting his role even more than in the first part, Robin is trying to act like Lemercier (because she's replacing her) but that's \\x91grotesque'. Lemercier is Lemercier, Robin is Robin! Even if Muriel Robin can be funny by herself on stage, she is not in this movie because she's not acting as she used to act. I know that it should be hard to replace somebody who was good in a role (Lemercier obtained a César award for her role in the first movie) but she made a big mistake: instead of playing her role, she played \\x91Lemercier playing her role'! As for the story, it's just too much! Of course we knew at he end of the first movie that there would be a sequel but Poiré and Clavier should hae tried to write a more simple story like the first episode. The gags are repetitive, childish and déjà-vu. No, really, there's no more than 3 funny parts in this. The only good things might be the costumes and some special effects. So you have only 2 reasons to watch it: 1) if you want to learn how to edit awfully a movie, 2) if you want to waste your time or if you really need a \\x91brainless moment'! 2/10\""
      ]
     },
     "execution_count": 27,
     "metadata": {},
     "output_type": "execute_result"
    }
   ],
   "source": [
    "text"
   ]
  },
  {
   "cell_type": "code",
   "execution_count": null,
   "id": "45b4b260",
   "metadata": {},
   "outputs": [],
   "source": []
  },
  {
   "cell_type": "code",
   "execution_count": null,
   "id": "e6b7caed",
   "metadata": {},
   "outputs": [],
   "source": []
  },
  {
   "cell_type": "code",
   "execution_count": null,
   "id": "5bdd25fb",
   "metadata": {},
   "outputs": [],
   "source": []
  },
  {
   "cell_type": "code",
   "execution_count": null,
   "id": "7b2f77e3",
   "metadata": {},
   "outputs": [],
   "source": []
  },
  {
   "cell_type": "code",
   "execution_count": null,
   "id": "b3f6eb26",
   "metadata": {},
   "outputs": [],
   "source": []
  },
  {
   "cell_type": "code",
   "execution_count": null,
   "id": "e69f84a6",
   "metadata": {},
   "outputs": [],
   "source": []
  }
 ],
 "metadata": {
  "kernelspec": {
   "display_name": "env1",
   "language": "python",
   "name": "python3"
  },
  "language_info": {
   "codemirror_mode": {
    "name": "ipython",
    "version": 3
   },
   "file_extension": ".py",
   "mimetype": "text/x-python",
   "name": "python",
   "nbconvert_exporter": "python",
   "pygments_lexer": "ipython3",
   "version": "3.12.3"
  }
 },
 "nbformat": 4,
 "nbformat_minor": 5
}
