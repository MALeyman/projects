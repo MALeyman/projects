{
 "cells": [
  {
   "cell_type": "markdown",
   "id": "771d0e8d-f631-461f-85da-a9bc40e93062",
   "metadata": {
    "tags": []
   },
   "source": [
    "# Предобработка файлов"
   ]
  },
  {
   "cell_type": "markdown",
   "id": "af5d69c9-4a27-4477-a6e6-24b887029759",
   "metadata": {},
   "source": [
    "### подключение библиотек"
   ]
  },
  {
   "cell_type": "code",
   "execution_count": 66,
   "id": "0c06a1d7-c85d-491a-82da-a5a270368540",
   "metadata": {
    "tags": []
   },
   "outputs": [],
   "source": [
    "import os \n",
    "import pathlib \n",
    "import numpy as np\n",
    "from glob import glob\n",
    "\n",
    "import shutil"
   ]
  },
  {
   "cell_type": "markdown",
   "id": "ac0d337c-29ee-43de-9f4f-82afbd3a2c64",
   "metadata": {},
   "source": [
    "### Пути к файлам"
   ]
  },
  {
   "cell_type": "code",
   "execution_count": 67,
   "id": "f4a456e9-52c1-447f-93da-17cf48e9741e",
   "metadata": {
    "tags": []
   },
   "outputs": [
    {
     "data": {
      "text/plain": [
       "'/home/maksim/develops/python/projects/ML/NLP/imdb'"
      ]
     },
     "execution_count": 67,
     "metadata": {},
     "output_type": "execute_result"
    }
   ],
   "source": [
    "# Текущее положение\n",
    "path_1 = os.getcwd()\n",
    "path_1"
   ]
  },
  {
   "cell_type": "code",
   "execution_count": 68,
   "id": "da8bc63d-47bd-40c9-9155-e181e8ec78b8",
   "metadata": {
    "tags": []
   },
   "outputs": [],
   "source": [
    "# Расположение файла для кодировки слов\n",
    "path_vocab = 'imdb.vocab'"
   ]
  },
  {
   "cell_type": "code",
   "execution_count": 69,
   "id": "87e27a8c",
   "metadata": {},
   "outputs": [
    {
     "name": "stdout",
     "output_type": "stream",
     "text": [
      "data\t\t    imdb.vocab\t\t       README.md\n",
      "dataset3.ipynb\t    model_NET.ipynb\t       Site\n",
      "film_predict.ipynb  preprocessing_files.ipynb  отчёт_отзывы_к_фильмам.pdf\n"
     ]
    }
   ],
   "source": [
    "!ls"
   ]
  },
  {
   "cell_type": "code",
   "execution_count": 70,
   "id": "75343467-b2e3-4476-8544-73ca2977315e",
   "metadata": {
    "tags": []
   },
   "outputs": [],
   "source": [
    "#  Новые пути к обработанным файлам\n",
    "\n",
    "c1 = os.path.join(path_1, 'data/dataset_new/1/')\n",
    "c2 = os.path.join(path_1, 'data/dataset_new/2/')\n",
    "c3 = os.path.join(path_1, 'data/dataset_new/3/')\n",
    "c4 = os.path.join(path_1, 'data/dataset_new/4')\n",
    "\n",
    "\n",
    "c7 = os.path.join(path_1, 'data/dataset_new/7/')\n",
    "c8 = os.path.join(path_1, 'data/dataset_new/8/')\n",
    "c9  = os.path.join(path_1, 'data/dataset_new/9/')\n",
    "c10 = os.path.join(path_1, 'data/dataset_new/10/')\n"
   ]
  },
  {
   "cell_type": "code",
   "execution_count": 71,
   "id": "5f69789a",
   "metadata": {},
   "outputs": [
    {
     "name": "stdout",
     "output_type": "stream",
     "text": [
      "Папка создана или уже существует: /home/maksim/develops/python/projects/ML/NLP/imdb/data/dataset_new/1/\n",
      "Папка создана или уже существует: /home/maksim/develops/python/projects/ML/NLP/imdb/data/dataset_new/2/\n",
      "Папка создана или уже существует: /home/maksim/develops/python/projects/ML/NLP/imdb/data/dataset_new/3/\n",
      "Папка создана или уже существует: /home/maksim/develops/python/projects/ML/NLP/imdb/data/dataset_new/4/\n",
      "Папка создана или уже существует: /home/maksim/develops/python/projects/ML/NLP/imdb/data/dataset_new/7/\n",
      "Папка создана или уже существует: /home/maksim/develops/python/projects/ML/NLP/imdb/data/dataset_new/8/\n",
      "Папка создана или уже существует: /home/maksim/develops/python/projects/ML/NLP/imdb/data/dataset_new/9/\n",
      "Папка создана или уже существует: /home/maksim/develops/python/projects/ML/NLP/imdb/data/dataset_new/10/\n"
     ]
    }
   ],
   "source": [
    "import os\n",
    "\n",
    "c1 = os.path.join(path_1, 'data/dataset_new/1/')\n",
    "c2 = os.path.join(path_1, 'data/dataset_new/2/')\n",
    "c3 = os.path.join(path_1, 'data/dataset_new/3/')\n",
    "c4 = os.path.join(path_1, 'data/dataset_new/4/')\n",
    "\n",
    "c7 = os.path.join(path_1, 'data/dataset_new/7/')\n",
    "c8 = os.path.join(path_1, 'data/dataset_new/8/')\n",
    "c9 = os.path.join(path_1, 'data/dataset_new/9/')\n",
    "c10 = os.path.join(path_1, 'data/dataset_new/10/')\n",
    "\n",
    "folders = [c1, c2, c3, c4, c7, c8, c9, c10]\n",
    "\n",
    "for folder in folders:\n",
    "    os.makedirs(folder, exist_ok=True)\n",
    "    print(f'Папка создана или уже существует: {folder}')\n"
   ]
  },
  {
   "cell_type": "code",
   "execution_count": 72,
   "id": "df060d56-95da-4605-9391-6b6b18a1a7c6",
   "metadata": {
    "tags": []
   },
   "outputs": [],
   "source": [
    "# пути к исходному датасету\n",
    "path_neg_1 = os.path.join(path_1, 'data/dataset_old/neg_1/')\n",
    "path_pos_1 = os.path.join(path_1, 'data/dataset_old/pos_1/')\n",
    "\n",
    "path_neg_2 = os.path.join(path_1, 'data/dataset_old/neg_2/')\n",
    "path_pos_2 = os.path.join(path_1, 'data/dataset_old/pos_2/')"
   ]
  },
  {
   "cell_type": "code",
   "execution_count": 73,
   "id": "ff7de63c-3254-4a10-8b05-a81249d6fa82",
   "metadata": {
    "tags": []
   },
   "outputs": [
    {
     "data": {
      "text/plain": [
       "'/home/maksim/develops/python/projects/ML/NLP/imdb/data/dataset_old/neg_1/'"
      ]
     },
     "execution_count": 73,
     "metadata": {},
     "output_type": "execute_result"
    }
   ],
   "source": [
    "path_neg_1"
   ]
  },
  {
   "cell_type": "code",
   "execution_count": 74,
   "id": "d6fe3ae7-43f4-4763-81de-65c98ecc8d61",
   "metadata": {
    "tags": []
   },
   "outputs": [],
   "source": [
    "neg2 = np.array((glob(os.path.join(path_neg_2, '*'))))\n",
    "\n",
    "pos2 = np.array((glob(os.path.join(path_pos_2, '*'))))\n",
    "\n",
    "neg1 = np.array((glob(os.path.join(path_neg_1, '*'))))\n",
    "\n",
    "pos1 = np.array((glob(os.path.join(path_pos_1, '*'))))"
   ]
  },
  {
   "cell_type": "code",
   "execution_count": 75,
   "id": "a1fe3deb-472b-44d5-b09f-e4c2a74d0270",
   "metadata": {
    "tags": []
   },
   "outputs": [
    {
     "data": {
      "text/plain": [
       "12500"
      ]
     },
     "execution_count": 75,
     "metadata": {},
     "output_type": "execute_result"
    }
   ],
   "source": [
    "len(pos1)"
   ]
  },
  {
   "cell_type": "code",
   "execution_count": 76,
   "id": "7f1445c4-9293-49bf-9025-ab7761078819",
   "metadata": {
    "tags": []
   },
   "outputs": [
    {
     "data": {
      "text/plain": [
       "np.str_('/home/maksim/develops/python/projects/ML/NLP/imdb/data/dataset_old/neg_2/5488_2.txt')"
      ]
     },
     "execution_count": 76,
     "metadata": {},
     "output_type": "execute_result"
    }
   ],
   "source": [
    "neg2[0]"
   ]
  },
  {
   "cell_type": "markdown",
   "id": "8d0a011a-259d-4895-b6fc-8cbff84e8a6b",
   "metadata": {
    "tags": []
   },
   "source": [
    "### вспомогательные функции"
   ]
  },
  {
   "cell_type": "code",
   "execution_count": 77,
   "id": "fbed6351-f38b-42b2-aa82-e2a30a9f6844",
   "metadata": {
    "tags": []
   },
   "outputs": [],
   "source": [
    "# функция вывода текста  отзыва\n",
    "\n",
    "def read_file(file1):\n",
    "    with open(file1, \"r\") as f1:\n",
    "        text = f1.read()\n",
    "        print(text)\n",
    "        f1.close"
   ]
  },
  {
   "cell_type": "code",
   "execution_count": 78,
   "id": "d465c1c1-9c16-424b-bca8-8bb64a6ce9c0",
   "metadata": {
    "tags": []
   },
   "outputs": [],
   "source": [
    "# функция преобразования файла текста в файл с числами\n",
    "\n",
    "def transform_text(file1):\n",
    "    # Читаем словарь и создаём маппинг слова -> индекс\n",
    "    with open(path_vocab, \"r\") as f_vocab:\n",
    "        lines = f_vocab.read().splitlines()\n",
    "    vocab_dict = {word.lower(): idx+1 for idx, word in enumerate(lines)}\n",
    "\n",
    "    mass = []\n",
    "    with open(file1, \"r\") as f_text:\n",
    "        text = f_text.read()\n",
    "\n",
    "    # Разбиваем весь текст на слова по пробелу\n",
    "    words = text.split()\n",
    "\n",
    "    for word in words:\n",
    "        word_lower = word.lower()\n",
    "        if word_lower in vocab_dict:\n",
    "            mass.append(vocab_dict[word_lower])\n",
    "        else:\n",
    "            mass.append(0)  # если слова нет в словаре\n",
    "\n",
    "    return mass\n"
   ]
  },
  {
   "cell_type": "code",
   "execution_count": 79,
   "id": "e3c45c62-f43c-4c1b-8f38-5a63160badf7",
   "metadata": {
    "tags": []
   },
   "outputs": [],
   "source": [
    "# функция получения имени файла из пути\n",
    "\n",
    "def str_name(str1):\n",
    "    p = os.path.basename(str1)\n",
    "    return os.path.splitext(p)[0]"
   ]
  },
  {
   "cell_type": "code",
   "execution_count": 80,
   "id": "402b20b1-e8a0-4349-a0f9-bab4f9fd4970",
   "metadata": {
    "tags": []
   },
   "outputs": [],
   "source": [
    "# функция получения рейтинга отзыва и номера отзыва по имени файла\n",
    "\n",
    "def inv1(str1):\n",
    "    l = len(str1)\n",
    "    ss = '444'\n",
    "    kk = ''\n",
    "    for i in range(l):\n",
    "        s = str1[i]\n",
    "        ss = ss + s\n",
    "        if s !='_':\n",
    "            continue\n",
    "        if s =='_':\n",
    "            i = i+1\n",
    "            while i < l:\n",
    "                ss = ss + str1[i]\n",
    "                kk = str1[i]\n",
    "                i = i+1\n",
    "            break\n",
    "    return ss, kk  "
   ]
  },
  {
   "cell_type": "code",
   "execution_count": 81,
   "id": "ed8bcab7-caf1-4e7d-a1af-2b425533bbd5",
   "metadata": {
    "tags": []
   },
   "outputs": [],
   "source": [
    "# функция разбивает исходный датасет по классам (по рейтингу)\n",
    "\n",
    "def func1(mas):   \n",
    "    for i in range(len(mas)):\n",
    "        str_n = mas[i]\n",
    "        str_1 = str_name(str_n)\n",
    "        \n",
    "        name_faile, num_class = inv1(str_1)\n",
    "        name_faile1 = name_faile + '.txt'\n",
    "        \n",
    "        if num_class == '0':\n",
    "            path_new = c10\n",
    "        elif num_class == '1':\n",
    "            path_new = c1          \n",
    "        elif num_class == '2':\n",
    "            path_new = c2\n",
    "        elif num_class == '3':\n",
    "            path_new = c3\n",
    "        elif num_class == '4':\n",
    "            path_new = c4\n",
    "        elif num_class == '5':\n",
    "            path_new = c5              \n",
    "        elif num_class == '6':\n",
    "            path_new = c\n",
    "        elif num_class == '7':\n",
    "            path_new = c7  \n",
    "        elif num_class == '8':\n",
    "            path_new = c8\n",
    "        elif num_class == '9':\n",
    "            path_new = c9                    \n",
    "\n",
    "                  \n",
    "        shutil.copy2(str_n, os.path.join(path_new, name_faile1))\n",
    "       \n",
    "        "
   ]
  },
  {
   "cell_type": "markdown",
   "id": "b6dafcda-2762-4485-8fba-98a7b53d9dd5",
   "metadata": {},
   "source": [
    "### Просмотрим пример отзыва"
   ]
  },
  {
   "cell_type": "code",
   "execution_count": 82,
   "id": "6bde28a0-9746-441a-94e4-bb01611d73f6",
   "metadata": {
    "tags": []
   },
   "outputs": [
    {
     "name": "stdout",
     "output_type": "stream",
     "text": [
      "Why on earth is Colin Firth in this pointless film? Has he really been that strapped for cash?<br /><br />The film isn't clear on what it wants to be about, grief?, exotic places?, ghosts?, a vehicle for Mr Darcy? It's a muddled, muddy mess.<br /><br />There seems to be some sort of idea that Italy must be good, in itself, and that Italian has something to offer as a language - but in the end the girls just want to go back to yankland.<br /><br />There are pointless episodes on the beach, in churches, on busy roads - but what it is all about, or why anybody should care simply isn't clear.<br /><br />There was also a yank woman in the film. It wasn't clear what here job was, but she seemed only to be there to make vapid, inappropriate and maudlin comments to the girl. Was it supposed to be about paedophillia??<br /><br />A pretty dreadful mess, all in all. I gave it 2 rather than 1 because it doesn't have the charm of an utterly ghastly film.\n"
     ]
    }
   ],
   "source": [
    "#  текст отзыва\n",
    "f = read_file(neg2[0])"
   ]
  },
  {
   "cell_type": "code",
   "execution_count": 83,
   "id": "9cca58db-1384-422c-865a-a8d74619601c",
   "metadata": {
    "tags": []
   },
   "outputs": [
    {
     "name": "stdout",
     "output_type": "stream",
     "text": [
      "134 19 686 6 5636 17657 8 10 1104 0 44 22 63 74 11 11127 14 0 0 0 18 209 765 19 46 7 474 5 26 0 0 4044 0 0 3 2133 14 430 0 0 3 0 10501 0 0 0 181 5 26 48 426 4 313 11 3016 219 26 0 8 0 2 11 1120 44 139 5 1407 13 3 1093 0 17 8 1 128 1 505 41 177 5 138 142 5 0 0 0 23 1104 645 19 1 0 8 0 19 2875 8965 0 17 46 7 6 29 0 40 134 1669 140 444 317 209 0 0 0 12 80 3 20509 235 8 1 0 7 274 765 46 123 283 0 17 52 452 61 5 26 38 5 95 0 4598 2 13494 760 5 1 0 12 7 408 5 26 42 0 0 0 179 2084 0 29 8 0 9 498 7 0 240 71 0 83 7 149 25 1 1325 4 32 1200 7775 0\n"
     ]
    }
   ],
   "source": [
    "# текст отзыва  в виде чисел (токенизация)\n",
    "result = transform_text(neg2[0])\n",
    "print(' '.join(str(num) for num in result))"
   ]
  },
  {
   "cell_type": "markdown",
   "id": "ce377351-c750-4fe3-9909-e0910ce9fafc",
   "metadata": {
    "tags": []
   },
   "source": [
    "### разбиение исходного датасета по классам (рейтингу)"
   ]
  },
  {
   "cell_type": "code",
   "execution_count": 61,
   "id": "bfb06901-4bf1-471f-829a-fa71ce8e5796",
   "metadata": {
    "tags": []
   },
   "outputs": [],
   "source": [
    "func1(neg1)\n",
    "func1(neg2)\n",
    "func1(pos1)\n",
    "func1(pos2)"
   ]
  },
  {
   "cell_type": "code",
   "execution_count": 101,
   "id": "ecc2bc6f-3614-4c55-92c2-ccfb5f5412bf",
   "metadata": {
    "tags": []
   },
   "outputs": [],
   "source": []
  },
  {
   "cell_type": "code",
   "execution_count": null,
   "id": "92cf823e-c0bd-4ddf-88ca-c79d3bc3af16",
   "metadata": {},
   "outputs": [],
   "source": []
  }
 ],
 "metadata": {
  "kernelspec": {
   "display_name": "env1",
   "language": "python",
   "name": "python3"
  },
  "language_info": {
   "codemirror_mode": {
    "name": "ipython",
    "version": 3
   },
   "file_extension": ".py",
   "mimetype": "text/x-python",
   "name": "python",
   "nbconvert_exporter": "python",
   "pygments_lexer": "ipython3",
   "version": "3.12.3"
  }
 },
 "nbformat": 4,
 "nbformat_minor": 5
}
